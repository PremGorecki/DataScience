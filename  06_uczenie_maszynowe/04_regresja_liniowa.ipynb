{
  "nbformat": 4,
  "nbformat_minor": 0,
  "metadata": {
    "colab": {
      "name": "04_regresja_liniowa.ipynb",
      "provenance": [],
      "authorship_tag": "ABX9TyOipm54h5/TM2J4QIgQwyzq",
      "include_colab_link": true
    },
    "kernelspec": {
      "name": "python3",
      "display_name": "Python 3"
    },
    "language_info": {
      "name": "python"
    }
  },
  "cells": [
    {
      "cell_type": "markdown",
      "metadata": {
        "id": "view-in-github",
        "colab_type": "text"
      },
      "source": [
        "<a href=\"https://colab.research.google.com/github/PremGorecki/DataScience/blob/main/%2006_uczenie_maszynowe/04_regresja_liniowa.ipynb\" target=\"_parent\"><img src=\"https://colab.research.google.com/assets/colab-badge.svg\" alt=\"Open In Colab\"/></a>"
      ]
    },
    {
      "cell_type": "code",
      "execution_count": 2,
      "metadata": {
        "id": "DtiKY3xn1mdA",
        "outputId": "54912536-81d7-4fa9-c8e4-02ca544fd85b",
        "colab": {
          "base_uri": "https://localhost:8080/"
        }
      },
      "outputs": [
        {
          "output_type": "stream",
          "name": "stdout",
          "text": [
            "Rozmiar X: (100, 1)\n",
            "Rozmiar y: (100,)\n"
          ]
        }
      ],
      "source": [
        "import numpy as np\n",
        "np.random.seed(10)\n",
        "\n",
        "# od 0 do 50 z krokiem 1/2\n",
        "X = np.arange(0, 50, 0.5)\n",
        "\n",
        "noise = 10 * np.random.randn(100)\n",
        "\n",
        "y = 2 * X + 100 + noise\n",
        "X = X.reshape(-1, 1)  # 1-go i 50-kolumn robi tyle ile trzeba wierszy (-1) #\n",
        "#i jedną kolumnę czyli ta druga 1-ka\n",
        "\n",
        "print('Rozmiar X:',X.shape)\n",
        "print('Rozmiar y:', y.shape)"
      ]
    },
    {
      "cell_type": "markdown",
      "source": [
        "Podział danych na zbiór treningowy i testowy"
      ],
      "metadata": {
        "id": "gu6WnD-t4xmB"
      }
    },
    {
      "cell_type": "code",
      "source": [
        "from sklearn.model_selection import train_test_split\n",
        "\n",
        "X_train, X_test, y_train, y_test = train_test_split(X, y, test_size=0.25)\n",
        "\n",
        "print('X_train shape:', X_train.shape)\n",
        "print('X_test shape:', X_test.shape)\n",
        "print('y_train_shape', y_train.shape)\n",
        "print('y_test shape', y_test.shape)"
      ],
      "metadata": {
        "id": "kC5tEa1h4A2x",
        "outputId": "41fbd8bb-3cca-4176-a20e-24f4948be109",
        "colab": {
          "base_uri": "https://localhost:8080/"
        }
      },
      "execution_count": 5,
      "outputs": [
        {
          "output_type": "stream",
          "name": "stdout",
          "text": [
            "X_train shape: (15, 1)\n",
            "X_test shape: (5, 1)\n",
            "y_train_shape (15,)\n",
            "y_test shape (5,)\n"
          ]
        }
      ]
    },
    {
      "cell_type": "markdown",
      "source": [
        "Wizualizacja"
      ],
      "metadata": {
        "id": "VZtLyCRO5HWp"
      }
    },
    {
      "cell_type": "code",
      "source": [
        "import matplotlib.pyplot as plt\n",
        "import seaborn as sns\n",
        "sns.set()\n",
        "\n",
        "plt.figure(figsize=(7, 5))\n",
        "plt.scatter(X_train, y_train, c='b', label='Zbiór treningowy')\n",
        "plt.scatter(X_test, y_test, c='g', label='Zbiór testowy')\n",
        "plt.xlabel('X')\n",
        "plt.ylabel('y')\n",
        "plt.legend()"
      ],
      "metadata": {
        "id": "rXpUz4u041iR",
        "outputId": "7b9887c8-26fb-4539-9023-272398321684",
        "colab": {
          "base_uri": "https://localhost:8080/",
          "height": 356
        }
      },
      "execution_count": 6,
      "outputs": [
        {
          "output_type": "execute_result",
          "data": {
            "text/plain": [
              "<matplotlib.legend.Legend at 0x7f61804be450>"
            ]
          },
          "metadata": {},
          "execution_count": 6
        },
        {
          "output_type": "display_data",
          "data": {
            "text/plain": [
              "<Figure size 504x360 with 1 Axes>"
            ],
            "image/png": "[encoded data removed]"
          },
          "metadata": {}
        }
      ]
    },
    {
      "cell_type": "markdown",
      "source": [
        "Regresja liniowa"
      ],
      "metadata": {
        "id": "Mkm7HsiA7m7y"
      }
    },
    {
      "cell_type": "code",
      "source": [
        "from sklearn.linear_model import LinearRegression\n",
        "\n",
        "lin_reg = LinearRegression()\n",
        "lin_reg.fit(X_train, y_train)\n",
        "\n",
        "print(lin_reg.coef_) # wagi\n",
        "print(lin_reg.intercept_) # wyraz wolny"
      ],
      "metadata": {
        "id": "1FZvxTyn5OnI",
        "outputId": "90b5a23f-299d-4b94-873d-6be608b3fc3c",
        "colab": {
          "base_uri": "https://localhost:8080/"
        }
      },
      "execution_count": 7,
      "outputs": [
        {
          "output_type": "stream",
          "name": "stdout",
          "text": [
            "[-0.30937519]\n",
            "19.606422746102137\n"
          ]
        }
      ]
    },
    {
      "cell_type": "markdown",
      "source": [
        "Rozwiązaniem jest prosta o postać $Y  = 101.86 + 1.93 * X_1$"
      ],
      "metadata": {
        "id": "2GuIU5Uy8Ej-"
      }
    },
    {
      "cell_type": "markdown",
      "source": [
        "Wizualizacja zbioru treningowego i dopasowanego modelu"
      ],
      "metadata": {
        "id": "iyfCQfAR8nxj"
      }
    },
    {
      "cell_type": "code",
      "source": [
        "plt.figure(figsize=(7, 5))\n",
        "plt.title('Regresja Liniowa - jedna zmienna')\n",
        "plt.scatter(X_train, y_train, c='b', label='Zbiór treningowy')\n",
        "plt.plot(X, lin_reg.intercept_ + lin_reg.coef_[0] * X, c='red')\n",
        "plt.plot(X, 2 + 1*X, c='yellow') # sprawdzam jak się rysuje :)\n",
        "plt.xlabel('X')\n",
        "plt.ylabel('y')\n",
        "plt.legend()"
      ],
      "metadata": {
        "id": "UQEXl5mW8noS",
        "outputId": "4a6bbd5b-7ff9-4052-8712-746ebaf9ee4b",
        "colab": {
          "base_uri": "https://localhost:8080/",
          "height": 372
        }
      },
      "execution_count": 8,
      "outputs": [
        {
          "output_type": "execute_result",
          "data": {
            "text/plain": [
              "<matplotlib.legend.Legend at 0x7f6181d9f990>"
            ]
          },
          "metadata": {},
          "execution_count": 8
        },
        {
          "output_type": "display_data",
          "data": {
            "text/plain": [
              "<Figure size 504x360 with 1 Axes>"
            ],
            "image/png": "[encoded data removed]"
          },
          "metadata": {}
        }
      ]
    },
    {
      "cell_type": "code",
      "source": [
        ""
      ],
      "metadata": {
        "id": "-JKQdq3y8PLu"
      },
      "execution_count": null,
      "outputs": []
    },
    {
      "cell_type": "markdown",
      "source": [
        "Wizualizacja zbioru testowego i dopasowanego modelu"
      ],
      "metadata": {
        "id": "9ULBO-2R9OXi"
      }
    },
    {
      "cell_type": "code",
      "source": [
        "y_pred = lin_reg.predict(X_test)\n",
        "plt.figure(figsize=(7, 5))\n",
        "plt.title('Regresja Liniowa - jedna zmienna')\n",
        "plt.scatter(X_test, y_test, c='g', label='Zbiór testowy')\n",
        "plt.plot(X, lin_reg.intercept_ + lin_reg.coef_[0] * X, c='red')\n",
        "plt.xlabel('X')\n",
        "plt.ylabel('y')\n",
        "plt.legend()"
      ],
      "metadata": {
        "id": "sixzQxhg9Pgr",
        "outputId": "11aafc72-8754-44de-c660-4df5d877685e",
        "colab": {
          "base_uri": "https://localhost:8080/",
          "height": 372
        }
      },
      "execution_count": 9,
      "outputs": [
        {
          "output_type": "execute_result",
          "data": {
            "text/plain": [
              "<matplotlib.legend.Legend at 0x7f617ea9e290>"
            ]
          },
          "metadata": {},
          "execution_count": 9
        },
        {
          "output_type": "display_data",
          "data": {
            "text/plain": [
              "<Figure size 504x360 with 1 Axes>"
            ],
            "image/png": "[encoded data removed]"
          },
          "metadata": {}
        }
      ]
    },
    {
      "cell_type": "code",
      "source": [
        "# Teraz robimy ocenę modelu przez współczynnik determinacji\n",
        "lin_reg.score(X_test, y_test)"
      ],
      "metadata": {
        "id": "IBw-L1da9TyZ",
        "outputId": "f088aba3-c452-4743-c615-8cc0544b35f1",
        "colab": {
          "base_uri": "https://localhost:8080/"
        }
      },
      "execution_count": 10,
      "outputs": [
        {
          "output_type": "execute_result",
          "data": {
            "text/plain": [
              "0.04264439998341485"
            ]
          },
          "metadata": {},
          "execution_count": 10
        }
      ]
    },
    {
      "cell_type": "code",
      "source": [
        "# tak można dostać pomoc\n",
        "lin_reg.score?"
      ],
      "metadata": {
        "id": "Bwg1MU9p-IRr"
      },
      "execution_count": 11,
      "outputs": []
    },
    {
      "cell_type": "markdown",
      "source": [
        "Przykład złego zastosowania regresji liniowej"
      ],
      "metadata": {
        "id": "5mfnvD6I_CT4"
      }
    },
    {
      "cell_type": "code",
      "source": [
        "X = np.arange(-5, 5, 0.5)\n",
        "noise = 10 * np.random.randn(20)\n",
        "y = 2 * (X ** 2) + 4 + noise\n",
        "X = X.reshape(-1, 1)\n",
        "\n",
        "lin_reg = LinearRegression()\n",
        "lin_reg.fit(X, y)\n",
        "\n",
        "print(lin_reg.coef_)\n",
        "print(lin_reg.intercept_)\n",
        "\n",
        "plt.figure(figsize=(7, 5))\n",
        "plt.title('Regresja Liniowa - jedna zmienna')\n",
        "plt.plot(X, lin_reg.intercept_ + lin_reg.coef_[0] * X, c='red')\n",
        "plt.scatter(X, y)\n",
        "plt.xlabel('X')\n",
        "plt.ylabel('y')"
      ],
      "metadata": {
        "id": "0CqomVH2-Paz",
        "outputId": "6a92b4d6-9766-4594-9929-a72ee8b603dc",
        "colab": {
          "base_uri": "https://localhost:8080/",
          "height": 407
        }
      },
      "execution_count": 12,
      "outputs": [
        {
          "output_type": "stream",
          "name": "stdout",
          "text": [
            "[-1.33897282]\n",
            "21.5641042905547\n"
          ]
        },
        {
          "output_type": "execute_result",
          "data": {
            "text/plain": [
              "Text(0, 0.5, 'y')"
            ]
          },
          "metadata": {},
          "execution_count": 12
        },
        {
          "output_type": "display_data",
          "data": {
            "text/plain": [
              "<Figure size 504x360 with 1 Axes>"
            ],
            "image/png": "[encoded data removed]"
          },
          "metadata": {}
        }
      ]
    },
    {
      "cell_type": "code",
      "source": [
        ""
      ],
      "metadata": {
        "id": "_NR-QxWg_E89"
      },
      "execution_count": null,
      "outputs": []
    }
  ]
}