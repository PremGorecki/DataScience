{
  "nbformat": 4,
  "nbformat_minor": 0,
  "metadata": {
    "colab": {
      "name": "01_pandas_intro.ipynb",
      "provenance": [],
      "authorship_tag": "ABX9TyMQRT4hV0SkOEyHsqCQ8N0S",
      "include_colab_link": true
    },
    "kernelspec": {
      "name": "python3",
      "display_name": "Python 3"
    },
    "language_info": {
      "name": "python"
    }
  },
  "cells": [
    {
      "cell_type": "markdown",
      "metadata": {
        "id": "view-in-github",
        "colab_type": "text"
      },
      "source": [
        "<a href=\"https://colab.research.google.com/github/PremGorecki/DataScience/blob/main/02_analiza_danych/01_pandas_intro.ipynb\" target=\"_parent\"><img src=\"https://colab.research.google.com/assets/colab-badge.svg\" alt=\"Open In Colab\"/></a>"
      ]
    },
    {
      "cell_type": "code",
      "execution_count": 1,
      "metadata": {
        "colab": {
          "base_uri": "https://localhost:8080/",
          "height": 36
        },
        "id": "IJoporSauBxN",
        "outputId": "557d1659-6bb3-458c-a79f-e806356b57a5"
      },
      "outputs": [
        {
          "output_type": "execute_result",
          "data": {
            "text/plain": [
              "'1.3.5'"
            ],
            "application/vnd.google.colaboratory.intrinsic+json": {
              "type": "string"
            }
          },
          "metadata": {},
          "execution_count": 1
        }
      ],
      "source": [
        "import pandas as pd\n",
        "pd.__version__"
      ]
    },
    {
      "cell_type": "code",
      "source": [
        "s = pd.Series(data=[3, 2, 4, 6])\n",
        "print(s)"
      ],
      "metadata": {
        "colab": {
          "base_uri": "https://localhost:8080/"
        },
        "id": "R9YLXOFGuzeh",
        "outputId": "4d433431-bc52-44d3-efab-bc951f7d1f91"
      },
      "execution_count": 2,
      "outputs": [
        {
          "output_type": "stream",
          "name": "stdout",
          "text": [
            "0    3\n",
            "1    2\n",
            "2    4\n",
            "3    6\n",
            "dtype: int64\n"
          ]
        }
      ]
    },
    {
      "cell_type": "code",
      "source": [
        "s = pd.Series(data=[3, 2, 4, 6], index=['a', 'b', 'c', 'd'], name = 'sample')\n",
        "print(s)"
      ],
      "metadata": {
        "colab": {
          "base_uri": "https://localhost:8080/"
        },
        "id": "RLF7MwO7vUiw",
        "outputId": "80211f14-440c-4f21-c608-9fc0a66c1a61"
      },
      "execution_count": 4,
      "outputs": [
        {
          "output_type": "stream",
          "name": "stdout",
          "text": [
            "a    3\n",
            "b    2\n",
            "c    4\n",
            "d    6\n",
            "Name: sample, dtype: int64\n"
          ]
        }
      ]
    },
    {
      "cell_type": "code",
      "source": [
        "s = pd.Series(data=[3., 2, 4, 6], index=['a', 'b', 'c', 'd'], name = 'sample')\n",
        "print(s)"
      ],
      "metadata": {
        "colab": {
          "base_uri": "https://localhost:8080/"
        },
        "id": "TM41czAXv4MK",
        "outputId": "1a58863f-37cc-4fef-ef5e-9c4c9a8b21f1"
      },
      "execution_count": 5,
      "outputs": [
        {
          "output_type": "stream",
          "name": "stdout",
          "text": [
            "a    3.0\n",
            "b    2.0\n",
            "c    4.0\n",
            "d    6.0\n",
            "Name: sample, dtype: float64\n"
          ]
        }
      ]
    },
    {
      "cell_type": "code",
      "source": [
        "import numpy as np\n",
        "np.nan"
      ],
      "metadata": {
        "colab": {
          "base_uri": "https://localhost:8080/"
        },
        "id": "F4Hfkpn2wsBn",
        "outputId": "765af1fe-7a4f-4ac0-dddc-1f68fb0d8c23"
      },
      "execution_count": 6,
      "outputs": [
        {
          "output_type": "execute_result",
          "data": {
            "text/plain": [
              "nan"
            ]
          },
          "metadata": {},
          "execution_count": 6
        }
      ]
    },
    {
      "cell_type": "code",
      "source": [
        "s = pd.Series(data=[3., np.nan, 4, 6], index=['a', 'b', 'c', 'd'], name = 'sample')\n",
        "print(s)"
      ],
      "metadata": {
        "colab": {
          "base_uri": "https://localhost:8080/"
        },
        "id": "2G7--cKWxFOD",
        "outputId": "345c6fe0-884c-4908-e963-9965155f5e32"
      },
      "execution_count": 7,
      "outputs": [
        {
          "output_type": "stream",
          "name": "stdout",
          "text": [
            "a    3.0\n",
            "b    NaN\n",
            "c    4.0\n",
            "d    6.0\n",
            "Name: sample, dtype: float64\n"
          ]
        }
      ]
    },
    {
      "cell_type": "code",
      "source": [
        "s = pd.Series(data=[True, False, False])\n",
        "print(s)"
      ],
      "metadata": {
        "colab": {
          "base_uri": "https://localhost:8080/"
        },
        "id": "5LNr8aQHxRex",
        "outputId": "6ef9b4d3-8bcc-4c7a-d4e3-2a743b3d06cb"
      },
      "execution_count": 8,
      "outputs": [
        {
          "output_type": "stream",
          "name": "stdout",
          "text": [
            "0     True\n",
            "1    False\n",
            "2    False\n",
            "dtype: bool\n"
          ]
        }
      ]
    },
    {
      "cell_type": "code",
      "source": [
        "\n",
        "s = pd.Series(data = np.arange(10, 20), index = pd.date_range(start='20200101', periods=10))\n",
        "print(s)"
      ],
      "metadata": {
        "colab": {
          "base_uri": "https://localhost:8080/"
        },
        "id": "bOYq_jzrxuOj",
        "outputId": "f5d4c2a1-cd55-4ed8-c0a2-1bfdc0fb5887"
      },
      "execution_count": 13,
      "outputs": [
        {
          "output_type": "stream",
          "name": "stdout",
          "text": [
            "2020-01-01    10\n",
            "2020-01-02    11\n",
            "2020-01-03    12\n",
            "2020-01-04    13\n",
            "2020-01-05    14\n",
            "2020-01-06    15\n",
            "2020-01-07    16\n",
            "2020-01-08    17\n",
            "2020-01-09    18\n",
            "2020-01-10    19\n",
            "Freq: D, dtype: int64\n"
          ]
        }
      ]
    },
    {
      "cell_type": "code",
      "source": [
        "\n",
        "s = pd.Series(data = ['python', 'java', 'sql'], name='languages')\n",
        "print(s.index)"
      ],
      "metadata": {
        "colab": {
          "base_uri": "https://localhost:8080/"
        },
        "id": "Uhi3BmhHyDIr",
        "outputId": "5d56f014-1261-42c8-d838-8d0cf171ee60"
      },
      "execution_count": 16,
      "outputs": [
        {
          "output_type": "stream",
          "name": "stdout",
          "text": [
            "RangeIndex(start=0, stop=3, step=1)\n"
          ]
        }
      ]
    },
    {
      "cell_type": "code",
      "source": [
        "print(s.values)"
      ],
      "metadata": {
        "colab": {
          "base_uri": "https://localhost:8080/"
        },
        "id": "0Grrq6oazjjK",
        "outputId": "e14b087a-a2d8-4bb7-e815-3caf4329fe3b"
      },
      "execution_count": 17,
      "outputs": [
        {
          "output_type": "stream",
          "name": "stdout",
          "text": [
            "['python' 'java' 'sql']\n"
          ]
        }
      ]
    },
    {
      "cell_type": "code",
      "source": [
        "print(s.dtypes)"
      ],
      "metadata": {
        "colab": {
          "base_uri": "https://localhost:8080/"
        },
        "id": "SsZ7LCkG0v1g",
        "outputId": "2b3c41ff-53a5-407c-c41e-a07ef44c2672"
      },
      "execution_count": 18,
      "outputs": [
        {
          "output_type": "stream",
          "name": "stdout",
          "text": [
            "object\n"
          ]
        }
      ]
    },
    {
      "cell_type": "code",
      "source": [
        "print(s.shape)"
      ],
      "metadata": {
        "colab": {
          "base_uri": "https://localhost:8080/"
        },
        "id": "4Ga5QEW31hPS",
        "outputId": "e1d71332-dc51-4f14-e751-1cab5734466d"
      },
      "execution_count": 19,
      "outputs": [
        {
          "output_type": "stream",
          "name": "stdout",
          "text": [
            "(3,)\n"
          ]
        }
      ]
    },
    {
      "cell_type": "code",
      "source": [
        "price = pd.Series(data = {'Apple' : 200, 'CD Projekt' : 60, 'Amazon' : 1900, 'KGHM' : np.nan })\n",
        "print(price)"
      ],
      "metadata": {
        "colab": {
          "base_uri": "https://localhost:8080/"
        },
        "id": "o9l7I4Sy11zq",
        "outputId": "08d3f0f0-8d21-4c70-e108-8e654fa26571"
      },
      "execution_count": 32,
      "outputs": [
        {
          "output_type": "stream",
          "name": "stdout",
          "text": [
            "Apple          200.0\n",
            "CD Projekt      60.0\n",
            "Amazon        1900.0\n",
            "KGHM             NaN\n",
            "dtype: float64\n"
          ]
        }
      ]
    },
    {
      "cell_type": "code",
      "source": [
        "price['CD Projekt']"
      ],
      "metadata": {
        "colab": {
          "base_uri": "https://localhost:8080/"
        },
        "id": "dUiVk9oI2d5h",
        "outputId": "ed2d45a2-53f8-4f6a-a77d-fc28184f5b0a"
      },
      "execution_count": 23,
      "outputs": [
        {
          "output_type": "execute_result",
          "data": {
            "text/plain": [
              "60"
            ]
          },
          "metadata": {},
          "execution_count": 23
        }
      ]
    },
    {
      "cell_type": "code",
      "source": [
        "price[1]"
      ],
      "metadata": {
        "colab": {
          "base_uri": "https://localhost:8080/"
        },
        "id": "6p3yBnA82yzx",
        "outputId": "6259904b-1926-4247-ed8e-da5d6b4ffc97"
      },
      "execution_count": 24,
      "outputs": [
        {
          "output_type": "execute_result",
          "data": {
            "text/plain": [
              "60"
            ]
          },
          "metadata": {},
          "execution_count": 24
        }
      ]
    },
    {
      "cell_type": "code",
      "source": [
        "print(price.count())"
      ],
      "metadata": {
        "colab": {
          "base_uri": "https://localhost:8080/"
        },
        "id": "AasOGJ9q3r9U",
        "outputId": "fca5fb05-4f08-492c-8ae2-ae18e917f8c7"
      },
      "execution_count": 35,
      "outputs": [
        {
          "output_type": "stream",
          "name": "stdout",
          "text": [
            "3\n"
          ]
        }
      ]
    },
    {
      "cell_type": "code",
      "source": [
        "print(price.value_counts(dropna=False))"
      ],
      "metadata": {
        "colab": {
          "base_uri": "https://localhost:8080/"
        },
        "id": "ylH9154k3-jy",
        "outputId": "0c3b1a4b-d5be-48b4-dfa2-8154806c6206"
      },
      "execution_count": 38,
      "outputs": [
        {
          "output_type": "stream",
          "name": "stdout",
          "text": [
            "200.0     1\n",
            "60.0      1\n",
            "1900.0    1\n",
            "NaN       1\n",
            "dtype: int64\n"
          ]
        }
      ]
    },
    {
      "cell_type": "code",
      "source": [
        "print(price.sum())"
      ],
      "metadata": {
        "colab": {
          "base_uri": "https://localhost:8080/"
        },
        "id": "XzqyR6s74Rrs",
        "outputId": "56ffd0fb-e71e-4103-ed69-003c6751161f"
      },
      "execution_count": 30,
      "outputs": [
        {
          "output_type": "stream",
          "name": "stdout",
          "text": [
            "2160\n"
          ]
        }
      ]
    },
    {
      "cell_type": "code",
      "source": [
        "price.describe()"
      ],
      "metadata": {
        "colab": {
          "base_uri": "https://localhost:8080/"
        },
        "id": "IYJ1PFYQ4hpA",
        "outputId": "8b670539-79f9-46dd-a969-0e48bc6a0c48"
      },
      "execution_count": 33,
      "outputs": [
        {
          "output_type": "execute_result",
          "data": {
            "text/plain": [
              "count       3.000000\n",
              "mean      720.000000\n",
              "std      1024.304642\n",
              "min        60.000000\n",
              "25%       130.000000\n",
              "50%       200.000000\n",
              "75%      1050.000000\n",
              "max      1900.000000\n",
              "dtype: float64"
            ]
          },
          "metadata": {},
          "execution_count": 33
        }
      ]
    },
    {
      "cell_type": "code",
      "source": [
        "print(price.nlargest(2))"
      ],
      "metadata": {
        "colab": {
          "base_uri": "https://localhost:8080/"
        },
        "id": "HnAXfc2h4tGn",
        "outputId": "fa127c97-5351-4820-dff5-386538af8e22"
      },
      "execution_count": 41,
      "outputs": [
        {
          "output_type": "stream",
          "name": "stdout",
          "text": [
            "Amazon    1900.0\n",
            "Apple      200.0\n",
            "dtype: float64\n"
          ]
        }
      ]
    },
    {
      "cell_type": "code",
      "source": [
        "print(price.nsmallest(2))"
      ],
      "metadata": {
        "colab": {
          "base_uri": "https://localhost:8080/"
        },
        "id": "3RQBVzaE54qS",
        "outputId": "e8488d7f-8d97-43e3-b65f-cc002346dfc2"
      },
      "execution_count": 42,
      "outputs": [
        {
          "output_type": "stream",
          "name": "stdout",
          "text": [
            "CD Projekt     60.0\n",
            "Apple         200.0\n",
            "dtype: float64\n"
          ]
        }
      ]
    },
    {
      "cell_type": "code",
      "source": [
        "print(price.rank())"
      ],
      "metadata": {
        "colab": {
          "base_uri": "https://localhost:8080/"
        },
        "id": "9DAFZR2I6IdX",
        "outputId": "869856b8-a601-49ff-959f-d2131ffd3f5c"
      },
      "execution_count": 44,
      "outputs": [
        {
          "output_type": "stream",
          "name": "stdout",
          "text": [
            "Apple         2.0\n",
            "CD Projekt    1.0\n",
            "Amazon        3.0\n",
            "KGHM          NaN\n",
            "dtype: float64\n"
          ]
        }
      ]
    },
    {
      "cell_type": "code",
      "source": [
        "print(price.sort_values(ascending=False))"
      ],
      "metadata": {
        "colab": {
          "base_uri": "https://localhost:8080/"
        },
        "id": "HAY5n5K06SPF",
        "outputId": "8a055564-9c19-4e97-e0f8-898990d54d6c"
      },
      "execution_count": 45,
      "outputs": [
        {
          "output_type": "stream",
          "name": "stdout",
          "text": [
            "Amazon        1900.0\n",
            "Apple          200.0\n",
            "CD Projekt      60.0\n",
            "KGHM             NaN\n",
            "dtype: float64\n"
          ]
        }
      ]
    },
    {
      "cell_type": "code",
      "source": [
        "price_pln = price.apply(lambda x: x * 3.8 )\n",
        "print(price_pln)"
      ],
      "metadata": {
        "colab": {
          "base_uri": "https://localhost:8080/"
        },
        "id": "sKqpr7ym6p-_",
        "outputId": "3886ee52-a71d-46c2-edaa-d5b5876b498d"
      },
      "execution_count": 47,
      "outputs": [
        {
          "output_type": "stream",
          "name": "stdout",
          "text": [
            "Apple          760.0\n",
            "CD Projekt     228.0\n",
            "Amazon        7220.0\n",
            "KGHM             NaN\n",
            "dtype: float64\n"
          ]
        }
      ]
    },
    {
      "cell_type": "code",
      "source": [
        ""
      ],
      "metadata": {
        "id": "ORpqn8bY7FTc"
      },
      "execution_count": null,
      "outputs": []
    }
  ]
}