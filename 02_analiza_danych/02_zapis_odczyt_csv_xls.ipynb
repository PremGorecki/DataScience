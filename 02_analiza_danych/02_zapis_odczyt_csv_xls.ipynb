{
  "nbformat": 4,
  "nbformat_minor": 0,
  "metadata": {
    "colab": {
      "name": "02_zapis_odczyt_csv_xls",
      "provenance": [],
      "authorship_tag": "ABX9TyNJ2UN/OI1Rjs4gA56h7fpv",
      "include_colab_link": true
    },
    "kernelspec": {
      "name": "python3",
      "display_name": "Python 3"
    },
    "language_info": {
      "name": "python"
    }
  },
  "cells": [
    {
      "cell_type": "markdown",
      "metadata": {
        "id": "view-in-github",
        "colab_type": "text"
      },
      "source": [
        "<a href=\"https://colab.research.google.com/github/PremGorecki/DataScience/blob/main/02_analiza_danych/02_zapis_odczyt_csv_xls.ipynb\" target=\"_parent\"><img src=\"https://colab.research.google.com/assets/colab-badge.svg\" alt=\"Open In Colab\"/></a>"
      ]
    },
    {
      "cell_type": "code",
      "execution_count": null,
      "metadata": {
        "id": "usZFbeSc5cc9"
      },
      "outputs": [],
      "source": [
        "import numpy as np\n",
        "import pandas as pd\n",
        "\n",
        "print(f'NumPy: {np.__version__}')\n",
        "print(f'Pandas: {pd.__version__}')"
      ]
    }
  ]
}