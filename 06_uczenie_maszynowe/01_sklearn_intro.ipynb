{
  "nbformat": 4,
  "nbformat_minor": 0,
  "metadata": {
    "colab": {
      "name": "01_sklearn_intro.ipynb",
      "provenance": [],
      "authorship_tag": "ABX9TyPHh3l4ziA78Rn+IX7PLjBI",
      "include_colab_link": true
    },
    "kernelspec": {
      "name": "python3",
      "display_name": "Python 3"
    },
    "language_info": {
      "name": "python"
    }
  },
  "cells": [
    {
      "cell_type": "markdown",
      "metadata": {
        "id": "view-in-github",
        "colab_type": "text"
      },
      "source": [
        "<a href=\"https://colab.research.google.com/github/PremGorecki/DataScience/blob/main/06_uczenie_maszynowe/01_sklearn_intro.ipynb\" target=\"_parent\"><img src=\"https://colab.research.google.com/assets/colab-badge.svg\" alt=\"Open In Colab\"/></a>"
      ]
    },
    {
      "cell_type": "code",
      "execution_count": 1,
      "metadata": {
        "id": "DMpb1FgHeffG",
        "outputId": "6dc7b89b-779f-4ead-b350-e7f352c17603",
        "colab": {
          "base_uri": "https://localhost:8080/",
          "height": 35
        }
      },
      "outputs": [
        {
          "output_type": "execute_result",
          "data": {
            "text/plain": [
              "'1.0.2'"
            ],
            "application/vnd.google.colaboratory.intrinsic+json": {
              "type": "string"
            }
          },
          "metadata": {},
          "execution_count": 1
        }
      ],
      "source": [
        "# Uczenie nadzorowane - klasyfikacja\n",
        "\n",
        "import sklearn\n",
        "sklearn.__version__"
      ]
    },
    {
      "cell_type": "code",
      "source": [
        "import numpy as np\n",
        "from sklearn import datasets  #sajkit learn\n",
        "\n",
        "np.random.seed(10)  #ziarno losowe - aby wszędzie tam gdzie losujemy były takie same dane\n",
        "raw_data = datasets.load_iris() # gatunki kosaćca\n",
        "raw_data  # mamy dane w SŁOWNIKU  raw data"
      ],
      "metadata": {
        "id": "BAtppohDkuUT"
      },
      "execution_count": null,
      "outputs": []
    },
    {
      "cell_type": "code",
      "source": [
        "# wyświetlamy klucze \n",
        "raw_data.keys()\n",
        "\n",
        "# data - nasze dane wejściowe\n",
        "# target - nasze dane docelowe\n",
        "# target_names - nazwa naszej zmiennej docelowej\n",
        "# DESC - krotki opis\n",
        "# feature_names - nazwy naszych cech\n",
        "# filename - lokalizacja gdzie się plik znajduje\n"
      ],
      "metadata": {
        "id": "H4LOsjw4k0GO",
        "outputId": "f5a4f0b8-4c2e-4816-918c-e15076b99b14",
        "colab": {
          "base_uri": "https://localhost:8080/"
        }
      },
      "execution_count": 3,
      "outputs": [
        {
          "output_type": "execute_result",
          "data": {
            "text/plain": [
              "dict_keys(['data', 'target', 'frame', 'target_names', 'DESCR', 'feature_names', 'filename', 'data_module'])"
            ]
          },
          "metadata": {},
          "execution_count": 3
        }
      ]
    },
    {
      "cell_type": "code",
      "source": [
        "# opis aby zobaczyć o co chodzi\n",
        "\n",
        "print(raw_data.DESCR)"
      ],
      "metadata": {
        "id": "ODfdkkXgk8V9"
      },
      "execution_count": null,
      "outputs": []
    },
    {
      "cell_type": "code",
      "source": [
        "# przygotowujemy nasze dane do modelu\n",
        "# wyciągamy dane i odpowiedzi\n",
        "data = raw_data.data\n",
        "target = raw_data.target"
      ],
      "metadata": {
        "id": "C7EgwlbnlCZm"
      },
      "execution_count": 5,
      "outputs": []
    },
    {
      "cell_type": "code",
      "source": [
        "# sprawdzamy czy rozmiary się zgadzają\n",
        "# obowiązkowy krok\n",
        "print(data.shape)\n",
        "print(target.shape)\n",
        "\n",
        "# nie robimy wizualizalizacji ale to też obowiązkowy krok"
      ],
      "metadata": {
        "id": "8jK8RwsJlNFz",
        "outputId": "eeeb6fed-7d52-4aa7-8283-537e78140f1c",
        "colab": {
          "base_uri": "https://localhost:8080/"
        }
      },
      "execution_count": 6,
      "outputs": [
        {
          "output_type": "stream",
          "name": "stdout",
          "text": [
            "(150, 4)\n",
            "(150,)\n"
          ]
        }
      ]
    },
    {
      "cell_type": "code",
      "source": [
        "# standardowe dzielimy dane na treningowe i testowe() Czas jeszcze zbiór walidaycyjny\n",
        "\n",
        "# importujemy funkcja ktora te dane dzieli\n",
        "from sklearn.model_selection import train_test_split\n",
        "# zwarca 4 obiekty numpy array\n",
        "# na dane testowe w zależności od problemu przeznaczamy 20-30%. Jeżeli ich jest dużo to mniej %\n",
        "# u nas 30 % na dane testowe\n",
        "data_train, data_test, target_train, target_test = train_test_split(data, target, test_size=0.3)"
      ],
      "metadata": {
        "id": "pYgrqRa5lS8p"
      },
      "execution_count": 7,
      "outputs": []
    },
    {
      "cell_type": "code",
      "source": [
        "print(data_train.shape)\n",
        "print(target_train.shape)"
      ],
      "metadata": {
        "id": "8l1lWQqvld3L",
        "outputId": "01d35ba7-0936-4910-ff54-9616e88fd6bc",
        "colab": {
          "base_uri": "https://localhost:8080/"
        }
      },
      "execution_count": 8,
      "outputs": [
        {
          "output_type": "stream",
          "name": "stdout",
          "text": [
            "(105, 4)\n",
            "(105,)\n"
          ]
        }
      ]
    },
    {
      "cell_type": "code",
      "source": [
        "print(data_test.shape)\n",
        "print(target_test.shape)"
      ],
      "metadata": {
        "id": "pFwpVoC_leXt",
        "outputId": "5b584ca4-5475-4a15-d1e0-dbabe3fc8956",
        "colab": {
          "base_uri": "https://localhost:8080/"
        }
      },
      "execution_count": 9,
      "outputs": [
        {
          "output_type": "stream",
          "name": "stdout",
          "text": [
            "(45, 4)\n",
            "(45,)\n"
          ]
        }
      ]
    },
    {
      "cell_type": "code",
      "source": [
        "# importujemy klasę która przechowuje nasz model\n",
        "# regresja logistyczna - jest to model klasyfikacji\n",
        "from sklearn.linear_model import LogisticRegression\n",
        "\n",
        "model = LogisticRegression()  # tworzymy instancję tej klasy\n",
        "model.fit(data_train, target_train) # przetrenowujemy model na naszych danych treningowych\n",
        "# poniżej dostaniemy info o dodatkowych parametrach które zostały przyjęte "
      ],
      "metadata": {
        "id": "nB1ewl5Dlg_u"
      },
      "execution_count": null,
      "outputs": []
    },
    {
      "cell_type": "code",
      "source": [
        "# robimy predykcję na danych testowych\n",
        "# przekazujemy tylko cechy a nie target\n",
        "target_pred = model.predict(data_test)\n",
        "print(target_pred)"
      ],
      "metadata": {
        "id": "3zyiQN-SlkXT",
        "outputId": "23e91e69-0c7f-4496-ee22-b76a3c64080e",
        "colab": {
          "base_uri": "https://localhost:8080/"
        }
      },
      "execution_count": 11,
      "outputs": [
        {
          "output_type": "stream",
          "name": "stdout",
          "text": [
            "[1 2 0 1 0 1 1 1 0 1 1 2 1 0 0 2 1 0 0 0 2 2 2 0 1 0 1 1 1 2 1 1 2 2 2 0 2\n",
            " 2 2 2 0 0 1 0 1]\n"
          ]
        }
      ]
    },
    {
      "cell_type": "code",
      "source": [
        "# do oceny modelu mamy np. dwa narzędzia macierz konfuzji i raport klasyfikacji\n",
        "# MACIERZ KONFUZJI\n",
        "from sklearn.metrics import confusion_matrix\n",
        "\n",
        "confusion_matrix(target_test, target_pred)\n",
        "\n",
        "# klasę pierwsza array([[15,  0,  0], przewidział w 100% poprawnie\n",
        "# to co nas interesuje to maksymalizacja wartości na przekątnej macierzy"
      ],
      "metadata": {
        "id": "MyDLlJuMlvK1",
        "outputId": "ff98c2c1-d808-42b5-d035-a5b82441d462",
        "colab": {
          "base_uri": "https://localhost:8080/"
        }
      },
      "execution_count": 12,
      "outputs": [
        {
          "output_type": "execute_result",
          "data": {
            "text/plain": [
              "array([[14,  0,  0],\n",
              "       [ 0, 17,  0],\n",
              "       [ 0,  0, 14]])"
            ]
          },
          "metadata": {},
          "execution_count": 12
        }
      ]
    },
    {
      "cell_type": "code",
      "source": [
        "# jeszcze jedna funkcja która pozwoli ocenić model - RAPORT KLASYFIKACJI\n",
        "\n",
        "from sklearn.metrics import classification_report\n",
        "print(classification_report(target_test, target_pred))"
      ],
      "metadata": {
        "id": "pYi53xI9ly9F",
        "outputId": "e73ea2ca-a72f-454b-9a04-56b5c334a41f",
        "colab": {
          "base_uri": "https://localhost:8080/"
        }
      },
      "execution_count": 13,
      "outputs": [
        {
          "output_type": "stream",
          "name": "stdout",
          "text": [
            "              precision    recall  f1-score   support\n",
            "\n",
            "           0       1.00      1.00      1.00        14\n",
            "           1       1.00      1.00      1.00        17\n",
            "           2       1.00      1.00      1.00        14\n",
            "\n",
            "    accuracy                           1.00        45\n",
            "   macro avg       1.00      1.00      1.00        45\n",
            "weighted avg       1.00      1.00      1.00        45\n",
            "\n"
          ]
        }
      ]
    },
    {
      "cell_type": "code",
      "source": [
        "model.coef_"
      ],
      "metadata": {
        "id": "_xNTL_mEl3Il",
        "outputId": "99e06843-b0ef-4675-d562-7e2534a2b2fc",
        "colab": {
          "base_uri": "https://localhost:8080/"
        }
      },
      "execution_count": 14,
      "outputs": [
        {
          "output_type": "execute_result",
          "data": {
            "text/plain": [
              "array([[-0.3533224 ,  0.91306745, -2.23703308, -0.97687265],\n",
              "       [ 0.56194662, -0.4405913 , -0.21698792, -0.64601958],\n",
              "       [-0.20862422, -0.47247615,  2.454021  ,  1.62289223]])"
            ]
          },
          "metadata": {},
          "execution_count": 14
        }
      ]
    },
    {
      "cell_type": "code",
      "source": [
        "model.intercept_"
      ],
      "metadata": {
        "id": "pEqoa9n7CfHT",
        "outputId": "c0af3bf3-88d6-4729-9688-2b06d9417a0b",
        "colab": {
          "base_uri": "https://localhost:8080/"
        }
      },
      "execution_count": 15,
      "outputs": [
        {
          "output_type": "execute_result",
          "data": {
            "text/plain": [
              "array([  8.30708662,   1.77287532, -10.07996194])"
            ]
          },
          "metadata": {},
          "execution_count": 15
        }
      ]
    },
    {
      "cell_type": "code",
      "source": [],
      "metadata": {
        "id": "S704bhC5CxGH"
      },
      "execution_count": null,
      "outputs": []
    }
  ]
}