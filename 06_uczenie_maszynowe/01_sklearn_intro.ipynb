{
  "nbformat": 4,
  "nbformat_minor": 0,
  "metadata": {
    "colab": {
      "name": "01_sklearn_intro.ipynb",
      "provenance": [],
      "authorship_tag": "ABX9TyMB6m02nI9IN8slvOCRdVD5",
      "include_colab_link": true
    },
    "kernelspec": {
      "name": "python3",
      "display_name": "Python 3"
    },
    "language_info": {
      "name": "python"
    }
  },
  "cells": [
    {
      "cell_type": "markdown",
      "metadata": {
        "id": "view-in-github",
        "colab_type": "text"
      },
      "source": [
        "<a href=\"https://colab.research.google.com/github/PremGorecki/DataScience/blob/main/06_uczenie_maszynowe/01_sklearn_intro.ipynb\" target=\"_parent\"><img src=\"https://colab.research.google.com/assets/colab-badge.svg\" alt=\"Open In Colab\"/></a>"
      ]
    },
    {
      "cell_type": "code",
      "execution_count": 1,
      "metadata": {
        "id": "DMpb1FgHeffG",
        "outputId": "3b2f3fcf-8521-41ea-d4da-8ed99a89afdb",
        "colab": {
          "base_uri": "https://localhost:8080/",
          "height": 35
        }
      },
      "outputs": [
        {
          "output_type": "execute_result",
          "data": {
            "text/plain": [
              "'1.0.2'"
            ],
            "application/vnd.google.colaboratory.intrinsic+json": {
              "type": "string"
            }
          },
          "metadata": {},
          "execution_count": 1
        }
      ],
      "source": [
        "import sklearn\n",
        "sklearn.__version__"
      ]
    },
    {
      "cell_type": "code",
      "source": [
        "import numpy as np\n",
        "from sklearn import datasets\n",
        "\n",
        "np.random.seed(10)\n",
        "raw_data = datasets.load_iris()\n",
        "raw_data"
      ],
      "metadata": {
        "id": "BAtppohDkuUT"
      },
      "execution_count": null,
      "outputs": []
    },
    {
      "cell_type": "code",
      "source": [
        "# wyświetlamy klucze \n",
        "raw_data.keys()"
      ],
      "metadata": {
        "id": "H4LOsjw4k0GO",
        "outputId": "25998495-80d8-4d95-b67f-be537085a2a2",
        "colab": {
          "base_uri": "https://localhost:8080/"
        }
      },
      "execution_count": 3,
      "outputs": [
        {
          "output_type": "execute_result",
          "data": {
            "text/plain": [
              "dict_keys(['data', 'target', 'frame', 'target_names', 'DESCR', 'feature_names', 'filename', 'data_module'])"
            ]
          },
          "metadata": {},
          "execution_count": 3
        }
      ]
    },
    {
      "cell_type": "code",
      "source": [
        "# opis aby zobaczyć o co chodzi\n",
        "\n",
        "print(raw_data.DESCR)"
      ],
      "metadata": {
        "id": "ODfdkkXgk8V9"
      },
      "execution_count": null,
      "outputs": []
    },
    {
      "cell_type": "code",
      "source": [
        "# wyciągamy dane i odpowiedzi\n",
        "data = raw_data.data\n",
        "target = raw_data.target"
      ],
      "metadata": {
        "id": "C7EgwlbnlCZm"
      },
      "execution_count": 5,
      "outputs": []
    },
    {
      "cell_type": "code",
      "source": [
        "# sprawdzamy czy rozmiary się zgadzają\n",
        "print(data.shape)\n",
        "print(target.shape)"
      ],
      "metadata": {
        "id": "8jK8RwsJlNFz",
        "outputId": "a824aa99-9b42-4fb4-c2fb-3f8793191fcc",
        "colab": {
          "base_uri": "https://localhost:8080/"
        }
      },
      "execution_count": 6,
      "outputs": [
        {
          "output_type": "stream",
          "name": "stdout",
          "text": [
            "(150, 4)\n",
            "(150,)\n"
          ]
        }
      ]
    },
    {
      "cell_type": "code",
      "source": [
        "# dzielimy dane na testowe i treningowe\n",
        "\n",
        "from sklearn.model_selection import train_test_split\n",
        "\n",
        "data_train, data_test, target_train, target_test = train_test_split(data, target, test_size=0.3)"
      ],
      "metadata": {
        "id": "pYgrqRa5lS8p"
      },
      "execution_count": 8,
      "outputs": []
    },
    {
      "cell_type": "code",
      "source": [
        "print(data_train.shape)\n",
        "print(target_train.shape)"
      ],
      "metadata": {
        "id": "8l1lWQqvld3L",
        "outputId": "4fd6e739-a817-4f50-cd8c-3c115d777e3c",
        "colab": {
          "base_uri": "https://localhost:8080/"
        }
      },
      "execution_count": 9,
      "outputs": [
        {
          "output_type": "stream",
          "name": "stdout",
          "text": [
            "(105, 4)\n",
            "(105,)\n"
          ]
        }
      ]
    },
    {
      "cell_type": "code",
      "source": [
        "print(data_test.shape)\n",
        "print(target_test.shape)"
      ],
      "metadata": {
        "id": "pFwpVoC_leXt",
        "outputId": "6949acb0-1f58-4d28-d944-2734ac25d0db",
        "colab": {
          "base_uri": "https://localhost:8080/"
        }
      },
      "execution_count": 10,
      "outputs": [
        {
          "output_type": "stream",
          "name": "stdout",
          "text": [
            "(45, 4)\n",
            "(45,)\n"
          ]
        }
      ]
    },
    {
      "cell_type": "code",
      "source": [
        "# uczymy\n",
        "from sklearn.linear_model import LogisticRegression\n",
        "\n",
        "model = LogisticRegression()\n",
        "model.fit(data_train, target_train)"
      ],
      "metadata": {
        "id": "nB1ewl5Dlg_u",
        "outputId": "3acbd61c-b73f-42a1-fa12-4e78a73f1c7a",
        "colab": {
          "base_uri": "https://localhost:8080/"
        }
      },
      "execution_count": 11,
      "outputs": [
        {
          "output_type": "stream",
          "name": "stderr",
          "text": [
            "/usr/local/lib/python3.7/dist-packages/sklearn/linear_model/_logistic.py:818: ConvergenceWarning: lbfgs failed to converge (status=1):\n",
            "STOP: TOTAL NO. of ITERATIONS REACHED LIMIT.\n",
            "\n",
            "Increase the number of iterations (max_iter) or scale the data as shown in:\n",
            "    https://scikit-learn.org/stable/modules/preprocessing.html\n",
            "Please also refer to the documentation for alternative solver options:\n",
            "    https://scikit-learn.org/stable/modules/linear_model.html#logistic-regression\n",
            "  extra_warning_msg=_LOGISTIC_SOLVER_CONVERGENCE_MSG,\n"
          ]
        },
        {
          "output_type": "execute_result",
          "data": {
            "text/plain": [
              "LogisticRegression()"
            ]
          },
          "metadata": {},
          "execution_count": 11
        }
      ]
    },
    {
      "cell_type": "code",
      "source": [
        "# robimy predykcję\n",
        "target_pred = model.predict(data_test)\n",
        "target_pred"
      ],
      "metadata": {
        "id": "3zyiQN-SlkXT",
        "outputId": "f5414add-6e5e-4f29-fcc4-fbfdd77bdfe2",
        "colab": {
          "base_uri": "https://localhost:8080/"
        }
      },
      "execution_count": 12,
      "outputs": [
        {
          "output_type": "execute_result",
          "data": {
            "text/plain": [
              "array([1, 2, 1, 0, 1, 2, 1, 2, 0, 2, 2, 2, 0, 0, 2, 2, 2, 1, 1, 2, 1, 1,\n",
              "       2, 0, 1, 0, 1, 1, 2, 1, 0, 1, 2, 2, 2, 1, 0, 1, 1, 2, 2, 2, 0, 0,\n",
              "       1])"
            ]
          },
          "metadata": {},
          "execution_count": 12
        }
      ]
    },
    {
      "cell_type": "code",
      "source": [
        "# macierz konfuzji\n",
        "from sklearn.metrics import confusion_matrix\n",
        "\n",
        "confusion_matrix(target_test, target_pred)"
      ],
      "metadata": {
        "id": "MyDLlJuMlvK1",
        "outputId": "13760a2f-bf62-4444-e985-d6bed93602a7",
        "colab": {
          "base_uri": "https://localhost:8080/"
        }
      },
      "execution_count": 13,
      "outputs": [
        {
          "output_type": "execute_result",
          "data": {
            "text/plain": [
              "array([[10,  0,  0],\n",
              "       [ 0, 17,  1],\n",
              "       [ 0,  0, 17]])"
            ]
          },
          "metadata": {},
          "execution_count": 13
        }
      ]
    },
    {
      "cell_type": "code",
      "source": [
        "from sklearn.metrics import classification_report\n",
        "\n",
        "print(classification_report(target_test, target_pred))"
      ],
      "metadata": {
        "id": "pYi53xI9ly9F",
        "outputId": "bd02727b-2db7-470c-a5b7-1eae19945f26",
        "colab": {
          "base_uri": "https://localhost:8080/"
        }
      },
      "execution_count": 14,
      "outputs": [
        {
          "output_type": "stream",
          "name": "stdout",
          "text": [
            "              precision    recall  f1-score   support\n",
            "\n",
            "           0       1.00      1.00      1.00        10\n",
            "           1       1.00      0.94      0.97        18\n",
            "           2       0.94      1.00      0.97        17\n",
            "\n",
            "    accuracy                           0.98        45\n",
            "   macro avg       0.98      0.98      0.98        45\n",
            "weighted avg       0.98      0.98      0.98        45\n",
            "\n"
          ]
        }
      ]
    },
    {
      "cell_type": "code",
      "source": [
        ""
      ],
      "metadata": {
        "id": "_xNTL_mEl3Il"
      },
      "execution_count": null,
      "outputs": []
    }
  ]
}