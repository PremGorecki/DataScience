{
  "nbformat": 4,
  "nbformat_minor": 0,
  "metadata": {
    "colab": {
      "name": "01_sklearn_intro.ipynb",
      "provenance": [],
      "authorship_tag": "ABX9TyPdvnigLUOWBtROwuUMOE2D",
      "include_colab_link": true
    },
    "kernelspec": {
      "name": "python3",
      "display_name": "Python 3"
    },
    "language_info": {
      "name": "python"
    }
  },
  "cells": [
    {
      "cell_type": "markdown",
      "metadata": {
        "id": "view-in-github",
        "colab_type": "text"
      },
      "source": [
        "<a href=\"https://colab.research.google.com/github/PremGorecki/DataScience/blob/main/06_uczenie_maszynowe/01_sklearn_intro.ipynb\" target=\"_parent\"><img src=\"https://colab.research.google.com/assets/colab-badge.svg\" alt=\"Open In Colab\"/></a>"
      ]
    },
    {
      "cell_type": "code",
      "execution_count": null,
      "metadata": {
        "id": "DMpb1FgHeffG",
        "outputId": "3b2f3fcf-8521-41ea-d4da-8ed99a89afdb",
        "colab": {
          "base_uri": "https://localhost:8080/",
          "height": 35
        }
      },
      "outputs": [
        {
          "output_type": "execute_result",
          "data": {
            "text/plain": [
              "'1.0.2'"
            ],
            "application/vnd.google.colaboratory.intrinsic+json": {
              "type": "string"
            }
          },
          "metadata": {},
          "execution_count": 1
        }
      ],
      "source": [
        "# Uczenie nadzorowane - klasyfikacja\n",
        "\n",
        "import sklearn\n",
        "sklearn.__version__"
      ]
    },
    {
      "cell_type": "code",
      "source": [
        "import numpy as np\n",
        "from sklearn import datasets  #sajkit learn\n",
        "\n",
        "np.random.seed(10)  #ziarno losowe - aby wszędzie tam gdzie losujemy były takie same dane\n",
        "raw_data = datasets.load_iris() # gatunki kosaćca\n",
        "raw_data  # mamy dane w SŁOWNIKU  raw data"
      ],
      "metadata": {
        "id": "BAtppohDkuUT"
      },
      "execution_count": null,
      "outputs": []
    },
    {
      "cell_type": "code",
      "source": [
        "# wyświetlamy klucze \n",
        "raw_data.keys()\n",
        "\n",
        "# data - nasze dane wejściowe\n",
        "# target - nasze dane docelowe\n",
        "# target_names - nazwa naszej zmiennej docelowej\n",
        "# DESC - krotki opis\n",
        "# feature_names - nazwy naszych cech\n",
        "# filename - lokalizacja gdzie się plik znajduje\n"
      ],
      "metadata": {
        "id": "H4LOsjw4k0GO",
        "outputId": "25998495-80d8-4d95-b67f-be537085a2a2",
        "colab": {
          "base_uri": "https://localhost:8080/"
        }
      },
      "execution_count": null,
      "outputs": [
        {
          "output_type": "execute_result",
          "data": {
            "text/plain": [
              "dict_keys(['data', 'target', 'frame', 'target_names', 'DESCR', 'feature_names', 'filename', 'data_module'])"
            ]
          },
          "metadata": {},
          "execution_count": 3
        }
      ]
    },
    {
      "cell_type": "code",
      "source": [
        "# opis aby zobaczyć o co chodzi\n",
        "\n",
        "print(raw_data.DESCR)"
      ],
      "metadata": {
        "id": "ODfdkkXgk8V9"
      },
      "execution_count": null,
      "outputs": []
    },
    {
      "cell_type": "code",
      "source": [
        "# przygotowujemy nasze dane do modelu\n",
        "# wyciągamy dane i odpowiedzi\n",
        "data = raw_data.data\n",
        "target = raw_data.target"
      ],
      "metadata": {
        "id": "C7EgwlbnlCZm"
      },
      "execution_count": null,
      "outputs": []
    },
    {
      "cell_type": "code",
      "source": [
        "# sprawdzamy czy rozmiary się zgadzają\n",
        "# obowiązkowy krok\n",
        "print(data.shape)\n",
        "print(target.shape)\n",
        "\n",
        "# nie robimy wizualizalizacji ale to też obowiązkowy krok"
      ],
      "metadata": {
        "id": "8jK8RwsJlNFz",
        "outputId": "e0399980-a209-46d2-fbeb-18c7489783d8",
        "colab": {
          "base_uri": "https://localhost:8080/"
        }
      },
      "execution_count": null,
      "outputs": [
        {
          "output_type": "stream",
          "name": "stdout",
          "text": [
            "(150, 4)\n",
            "(150,)\n"
          ]
        }
      ]
    },
    {
      "cell_type": "code",
      "source": [
        "# standardowe dzielimy dane na treningowe i testowe() Czas jeszcze zbiór walidaycyjny\n",
        "\n",
        "# importujemy funkcja ktora te dane dzieli\n",
        "from sklearn.model_selection import train_test_split\n",
        "# zwarca 4 obiekty numpy array\n",
        "# na dane testowe w zależności od problemu przeznaczamy 20-30%. Jeżeli ich jest dużo to mniej %\n",
        "# u nas 30 % na dane testowe\n",
        "data_train, data_test, target_train, target_test = train_test_split(data, target, test_size=0.3)"
      ],
      "metadata": {
        "id": "pYgrqRa5lS8p"
      },
      "execution_count": null,
      "outputs": []
    },
    {
      "cell_type": "code",
      "source": [
        "print(data_train.shape)\n",
        "print(target_train.shape)"
      ],
      "metadata": {
        "id": "8l1lWQqvld3L",
        "outputId": "15be1316-205f-41bd-ccf7-770e6fce8e7f",
        "colab": {
          "base_uri": "https://localhost:8080/"
        }
      },
      "execution_count": null,
      "outputs": [
        {
          "output_type": "stream",
          "name": "stdout",
          "text": [
            "(105, 4)\n",
            "(105,)\n"
          ]
        }
      ]
    },
    {
      "cell_type": "code",
      "source": [
        "print(data_test.shape)\n",
        "print(target_test.shape)"
      ],
      "metadata": {
        "id": "pFwpVoC_leXt",
        "outputId": "46bd2fa4-3209-49ec-bad8-4186dd737473",
        "colab": {
          "base_uri": "https://localhost:8080/"
        }
      },
      "execution_count": null,
      "outputs": [
        {
          "output_type": "stream",
          "name": "stdout",
          "text": [
            "(45, 4)\n",
            "(45,)\n"
          ]
        }
      ]
    },
    {
      "cell_type": "code",
      "source": [
        "# importujemy klasę która przechowuje nasz model\n",
        "# regresja logistyczna - jest to model klasyfikacji\n",
        "from sklearn.linear_model import LogisticRegression\n",
        "\n",
        "model = LogisticRegression()  # tworzymy instancję tej klasy\n",
        "model.fit(data_train, target_train) # przetrenowujemy model na naszych danych treningowych\n",
        "# poniżej dostaniemy info o dodatkowych parametrach które zostały przyjęte "
      ],
      "metadata": {
        "id": "nB1ewl5Dlg_u",
        "outputId": "46881e1c-233d-4dd2-ef97-0e4196a85e36",
        "colab": {
          "base_uri": "https://localhost:8080/"
        }
      },
      "execution_count": null,
      "outputs": [
        {
          "output_type": "execute_result",
          "data": {
            "text/plain": [
              "LogisticRegression()"
            ]
          },
          "metadata": {},
          "execution_count": 27
        }
      ]
    },
    {
      "cell_type": "code",
      "source": [
        "# robimy predykcję na danych testowych\n",
        "# przekazujemy tylko cechy a nie target\n",
        "target_pred = model.predict(data_test)\n",
        "print(target_pred)"
      ],
      "metadata": {
        "id": "3zyiQN-SlkXT",
        "outputId": "1d7b19ed-c187-4480-aa9f-2426eda534b2",
        "colab": {
          "base_uri": "https://localhost:8080/"
        }
      },
      "execution_count": null,
      "outputs": [
        {
          "output_type": "stream",
          "name": "stdout",
          "text": [
            "[1 1 0 0 0 0 2 1 2 0 2 2 1 2 1 2 0 0 0 0 1 1 0 2 0 1 2 1 2 0 2 0 1 1 1 0 2\n",
            " 1 0 2 2 2 1 1 1]\n"
          ]
        }
      ]
    },
    {
      "cell_type": "code",
      "source": [
        "# do oceny modelu mamy np. dwa narzędzia macierz konfuzji i raport klasyfikacji\n",
        "# MACIERZ KONFUZJI\n",
        "from sklearn.metrics import confusion_matrix\n",
        "\n",
        "confusion_matrix(target_test, target_pred)\n",
        "\n",
        "# klasę pierwsza array([[15,  0,  0], przewidział w 100% poprawnie\n",
        "# to co nas interesuje to maksymalizacja wartości na przekątnej macierzy"
      ],
      "metadata": {
        "id": "MyDLlJuMlvK1",
        "outputId": "9f23f98b-e56e-4102-d28f-293b3bfcea87",
        "colab": {
          "base_uri": "https://localhost:8080/"
        }
      },
      "execution_count": null,
      "outputs": [
        {
          "output_type": "execute_result",
          "data": {
            "text/plain": [
              "array([[15,  0,  0],\n",
              "       [ 0, 16,  1],\n",
              "       [ 0,  0, 13]])"
            ]
          },
          "metadata": {},
          "execution_count": 30
        }
      ]
    },
    {
      "cell_type": "code",
      "source": [
        "# jeszcze jedna funkcja która pozwoli ocenić model - RAPORT KLASYFIKACJI\n",
        "\n",
        "from sklearn.metrics import classification_report\n",
        "print(classification_report(target_test, target_pred))"
      ],
      "metadata": {
        "id": "pYi53xI9ly9F",
        "outputId": "ed8aa679-643b-4f27-cb1e-3e8322b9ef2b",
        "colab": {
          "base_uri": "https://localhost:8080/"
        }
      },
      "execution_count": null,
      "outputs": [
        {
          "output_type": "stream",
          "name": "stdout",
          "text": [
            "              precision    recall  f1-score   support\n",
            "\n",
            "           0       1.00      1.00      1.00        15\n",
            "           1       1.00      0.94      0.97        17\n",
            "           2       0.93      1.00      0.96        13\n",
            "\n",
            "    accuracy                           0.98        45\n",
            "   macro avg       0.98      0.98      0.98        45\n",
            "weighted avg       0.98      0.98      0.98        45\n",
            "\n"
          ]
        }
      ]
    },
    {
      "cell_type": "code",
      "source": [
        ""
      ],
      "metadata": {
        "id": "_xNTL_mEl3Il"
      },
      "execution_count": null,
      "outputs": []
    }
  ]
}