{
  "nbformat": 4,
  "nbformat_minor": 0,
  "metadata": {
    "colab": {
      "name": "01_testowy.ipynb",
      "provenance": [],
      "authorship_tag": "ABX9TyOPi+hXt/zEEv9eabGzMmOD",
      "include_colab_link": true
    },
    "kernelspec": {
      "name": "python3",
      "display_name": "Python 3"
    },
    "language_info": {
      "name": "python"
    }
  },
  "cells": [
    {
      "cell_type": "markdown",
      "metadata": {
        "id": "view-in-github",
        "colab_type": "text"
      },
      "source": [
        "<a href=\"https://colab.research.google.com/github/PremGorecki/DataScience/blob/main/10_testy/01_testowy.ipynb\" target=\"_parent\"><img src=\"https://colab.research.google.com/assets/colab-badge.svg\" alt=\"Open In Colab\"/></a>"
      ]
    },
    {
      "cell_type": "code",
      "execution_count": 40,
      "metadata": {
        "id": "ra351NL-6ZEO",
        "outputId": "32975d79-a706-44cb-e5a6-c46e614521de",
        "colab": {
          "base_uri": "https://localhost:8080/"
        }
      },
      "outputs": [
        {
          "output_type": "stream",
          "name": "stdout",
          "text": [
            "   One  Two     Name\n",
            "1  2.0  4.0      NaN\n",
            "0  1.0  5.0      NaN\n",
            "0  NaN  NaN      Jan\n",
            "1  NaN  NaN  Przemek\n"
          ]
        }
      ],
      "source": [
        "import numpy as np\n",
        "import pandas as pd\n",
        "\n",
        "\n",
        "df = pd.DataFrame(data={'col1': [1, 2], 'col2': [5, 4]}, dtype=np.float64)\n",
        "df.columns = ['One', 'Two']\n",
        "df = df.sort_values('Two', ascending=True)\n",
        "\n",
        "data2 = np.array(['Jan', 'Przemek'])\n",
        "df2 = pd.DataFrame(data=data2, columns=['Name'])\n",
        "\n",
        "# axis = 0 to pod spodem dodaje\n",
        "# axis = 1 to jako kolumna\n",
        "df = pd.concat([df, df2], axis=0)\n",
        "print(df)"
      ]
    },
    {
      "cell_type": "code",
      "source": [
        ""
      ],
      "metadata": {
        "id": "XBbzuJun675H",
        "outputId": "27c3e7eb-cc8d-4594-9b52-bd515397060d",
        "colab": {
          "base_uri": "https://localhost:8080/"
        }
      },
      "execution_count": 39,
      "outputs": [
        {
          "output_type": "stream",
          "name": "stdout",
          "text": [
            "   One  Two     Name\n",
            "1  2.0  4.0      NaN\n",
            "0  1.0  5.0      NaN\n",
            "0  NaN  NaN      Jan\n",
            "1  NaN  NaN  Przemek\n"
          ]
        }
      ]
    },
    {
      "cell_type": "code",
      "source": [
        ""
      ],
      "metadata": {
        "id": "YA4Ta0HN6-LD"
      },
      "execution_count": 39,
      "outputs": []
    }
  ]
}