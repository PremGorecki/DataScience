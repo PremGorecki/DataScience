{
  "nbformat": 4,
  "nbformat_minor": 0,
  "metadata": {
    "colab": {
      "name": "01_testowy.ipynb",
      "provenance": [],
      "authorship_tag": "ABX9TyPShnRGFFfwe+bstWNem2mC",
      "include_colab_link": true
    },
    "kernelspec": {
      "name": "python3",
      "display_name": "Python 3"
    },
    "language_info": {
      "name": "python"
    }
  },
  "cells": [
    {
      "cell_type": "markdown",
      "metadata": {
        "id": "view-in-github",
        "colab_type": "text"
      },
      "source": [
        "<a href=\"https://colab.research.google.com/github/PremGorecki/DataScience/blob/main/10_testy/01_testowy.ipynb\" target=\"_parent\"><img src=\"https://colab.research.google.com/assets/colab-badge.svg\" alt=\"Open In Colab\"/></a>"
      ]
    },
    {
      "cell_type": "code",
      "execution_count": null,
      "metadata": {
        "id": "ra351NL-6ZEO"
      },
      "outputs": [],
      "source": [
        "import numpy as np\n",
        "import pandas as pd\n",
        "\n",
        "\n",
        "df = pd.DataFrame(data={'col1': [1, 2], 'col2': [5, 4]}, dtype=np.float64)\n",
        "df.columns = ['One', 'Two']\n",
        "df = df.sort_values('Two', ascending=True)\n",
        "\n",
        "data2 = np.array(['Jan', 'Przemek'])\n",
        "df2 = pd.DataFrame(data=data2, columns=['Name'])\n",
        "\n",
        "# axis = 0 to pod spodem dodaje\n",
        "# axis = 1 to jako kolumna\n",
        "df = pd.concat([df, df2], axis=0)\n",
        "print(df)\n",
        "\n"
      ]
    },
    {
      "cell_type": "code",
      "source": [
        "#RESHAPE\n",
        "\n",
        "X = np.array([[1, 2, 3], [3, 4 ,5]])\n",
        "print(X, X.shape)\n",
        "print()\n",
        "\n",
        "X = X.reshape(1, -1)\n",
        "print(X, X.shape)\n"
      ],
      "metadata": {
        "id": "_k2-HRDO0OZH",
        "outputId": "92a0b275-75d6-4a4d-cb4d-40126d53bfe0",
        "colab": {
          "base_uri": "https://localhost:8080/"
        }
      },
      "execution_count": 18,
      "outputs": [
        {
          "output_type": "stream",
          "name": "stdout",
          "text": [
            "[[1 2 3]\n",
            " [3 4 5]] (2, 3)\n",
            "\n",
            "[[1 2 3 3 4 5]] (1, 6)\n"
          ]
        }
      ]
    },
    {
      "cell_type": "code",
      "source": [
        ""
      ],
      "metadata": {
        "id": "Gmkfi6e51Kf6"
      },
      "execution_count": null,
      "outputs": []
    }
  ]
}